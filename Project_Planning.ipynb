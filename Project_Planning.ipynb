{
 "cells": [
  {
   "cell_type": "markdown",
   "metadata": {},
   "source": [
    "## Project Planning for DS 4200 Project\n",
    "\n",
    "### Chapters\n",
    "#### 1) Understand the Project\n",
    "#### 2) Existing Projects\n",
    "#### 3) Possible Good Choices for Data\n",
    "\n",
    "---"
   ]
  },
  {
   "cell_type": "markdown",
   "metadata": {},
   "source": [
    "### 1) Understand the Project\n",
    "\n",
    "The purpose of the project is to find a dataset and conduct an analysis of it and compile various visualizations for it. In the end, we must demonstrate proficiency in the techniques covered and class and apply them to a novel dataset in a meaningful way. \n",
    "\n",
    "We must first choose a dataset for the project. This is probably one of the more challenging parts because it essentially decides how easy / difficult it is going to be. You want one that is not too complicated, is easy to communicate with the user, and also is meaningful.\n",
    "\n",
    "At the end, the main final deliverable is a webpage which is used to demonstrate the results of our project. This will include the visualizations of our choice and hopefully be interactive for the user. "
   ]
  },
  {
   "cell_type": "markdown",
   "metadata": {},
   "source": [
    "### 2) Existing Projects\n",
    "\n",
    "Some examples of existing projects can be found [here](https://neu-ds-4200-s22.github.io/projects/overview#example-projects). From exploring these, these are my notes:\n",
    "\n",
    "- the webpages involve some level of interaction. most common is select a certain feature, and have it highlighted in a larger dataset.\n",
    "- these are a little different and have a video, which ours is not required to have per the *final webpage deliverables* but this might be nice to have as well. is pretty easy to do and is just like the presentation and a walk through of the page.\n",
    "- some visualizations do not really \"tell a story\". example is the tap water one where it is cool to see the data, but the average person does not really know what that means.\n",
    "- feel that the ones with a map element are the most compelling, since there is a chance the user can more easily relate to it. they can find their location on the map, and see what data is like there and how it compares."
   ]
  },
  {
   "cell_type": "markdown",
   "metadata": {},
   "source": [
    "### 3) Possible Good Choices for Data\n",
    "\n",
    "Just some options I found while exploring. I think it would be beneficial to have a geographic/spatial element to our data. We can still contruct the normal charts, however, I believe having an interactive map is compelling to support these charts. With this in mind, I have compiled some possible high level choices for data:\n",
    "\n",
    "- Boston Data\n",
    "    - [Boston Weather 2013-2023](https://www.kaggle.com/datasets/swaroopmeher/boston-weather-2013-2023/data)\n",
    "    - [Crimes in Boston](https://www.kaggle.com/datasets/AnalyzeBoston/crimes-in-boston)\n",
    "    - [Finishers Boston Marathon 2015, 2016 & 2017](https://www.kaggle.com/datasets/rojour/boston-results)\n",
    "    - [Boston 311](https://www.kaggle.com/datasets/sandy1112/boston-311)\n",
    "    - [Boston's First Women Voters](https://www.kaggle.com/datasets/michaelbryantds/bostons-first-women-voters)\n",
    "    - There is quite a lot of 'Boston Housing' datasets. I think this is fine, but likely pretty common and well covered.\n",
    "- Possible Other Climate Data (Can Be A Lot)\n",
    "- Some others"
   ]
  }
 ],
 "metadata": {
  "kernelspec": {
   "display_name": "Python 3",
   "language": "python",
   "name": "python3"
  },
  "language_info": {
   "name": "python",
   "version": "3.12.0"
  }
 },
 "nbformat": 4,
 "nbformat_minor": 2
}
